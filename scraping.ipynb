{
 "cells": [
  {
   "cell_type": "code",
   "execution_count": 26,
   "metadata": {},
   "outputs": [
    {
     "name": "stderr",
     "output_type": "stream",
     "text": [
      "/home/lorenz/anaconda3/lib/python3.6/site-packages/ipykernel_launcher.py:4: DeprecationWarning: use options instead of firefox_options\n",
      "  after removing the cwd from sys.path.\n"
     ]
    },
    {
     "name": "stdout",
     "output_type": "stream",
     "text": [
      "Selenium WebDriver findElement(By.xpath()) not working for me - Stack Overflow\n",
      "element = findElement(By.xpath(\"//*[@test-id='test-username']\");\n",
      "element = findElement(By.xpath(\"//input[@test-id='test-username']\");\n"
     ]
    }
   ],
   "source": [
    "from selenium import webdriver\n",
    "options = webdriver.FirefoxOptions()\n",
    "options.add_argument('--headless')\n",
    "driver = webdriver.Firefox(options = options)\n",
    "driver.get(\"https://stackoverflow.com/questions/16952514/selenium-webdriver-findelementby-xpath-not-working-for-me\")\n",
    "print (driver.title)\n",
    "elements =  (driver.find_element_by_id('answers').find_element_by_tag_name(\"code\").text)\n",
    "# plan -> go into div id=answers --> search after \"code\" and take the first one\n",
    "print (elements)\n",
    "\n",
    "\n",
    "driver.close()\n",
    "\n",
    "\n",
    "    \n"
   ]
  },
  {
   "cell_type": "code",
   "execution_count": null,
   "metadata": {},
   "outputs": [],
   "source": []
  }
 ],
 "metadata": {
  "kernelspec": {
   "display_name": "Python 3",
   "language": "python",
   "name": "python3"
  },
  "language_info": {
   "codemirror_mode": {
    "name": "ipython",
    "version": 3
   },
   "file_extension": ".py",
   "mimetype": "text/x-python",
   "name": "python",
   "nbconvert_exporter": "python",
   "pygments_lexer": "ipython3",
   "version": "3.6.5"
  }
 },
 "nbformat": 4,
 "nbformat_minor": 2
}
