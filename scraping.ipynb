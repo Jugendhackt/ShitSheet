{
 "cells": [
  {
   "cell_type": "code",
   "execution_count": 20,
   "metadata": {},
   "outputs": [
    {
     "name": "stdout",
     "output_type": "stream",
     "text": [
      "Get current page URL from a firefox sidebar extension - Stack Overflow\n",
      "window.top.getBrowser().selectedBrowser.contentWindow.location.href;\n"
     ]
    }
   ],
   "source": [
    "from selenium import webdriver\n",
    "driver = webdriver.Firefox()\n",
    "driver.get(\"https://stackoverflow.com/questions/410411/get-current-page-url-from-a-firefox-sidebar-extension#3080657\")\n",
    "print (driver.title)\n",
    "print (driver.find_element_by_tag_name(\"code\").text)\n",
    "\n",
    "driver.close()\n",
    "\n",
    "\n",
    "    \n"
   ]
  }
 ],
 "metadata": {
  "kernelspec": {
   "display_name": "Python 3",
   "language": "python",
   "name": "python3"
  },
  "language_info": {
   "codemirror_mode": {
    "name": "ipython",
    "version": 3
   },
   "file_extension": ".py",
   "mimetype": "text/x-python",
   "name": "python",
   "nbconvert_exporter": "python",
   "pygments_lexer": "ipython3",
   "version": "3.6.5"
  }
 },
 "nbformat": 4,
 "nbformat_minor": 2
}
